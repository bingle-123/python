{
 "cells": [
  {
   "cell_type": "markdown",
   "metadata": {},
   "source": [
    "# ndarray 排序\n",
    "\n",
    "代码越少越好"
   ]
  },
  {
   "cell_type": "code",
   "execution_count": 9,
   "metadata": {},
   "outputs": [],
   "source": [
    "import numpy as np\n",
    "\n",
    "n1 = np.array([1, 3, 2, 9, 3, 2])"
   ]
  },
  {
   "cell_type": "code",
   "execution_count": 8,
   "metadata": {},
   "outputs": [],
   "source": [
    "# 经典的冒泡排序\n",
    "# 两层for 循环是时间 和 空间复杂度增加\n",
    "\n",
    "def sortn(nd):\n",
    "    for i in range(nd.size):\n",
    "        for j in range(i, nd.size):\n",
    "            \n",
    "            if nd[i] > nd[j]:\n",
    "                nd[i], nd[j] = nd[j], nd[i]\n",
    "    return nd\n",
    "            "
   ]
  },
  {
   "cell_type": "code",
   "execution_count": 7,
   "metadata": {},
   "outputs": [
    {
     "data": {
      "text/plain": [
       "array([1, 2, 2, 3, 3, 9])"
      ]
     },
     "execution_count": 7,
     "metadata": {},
     "output_type": "execute_result"
    }
   ],
   "source": [
    "sortn(n1)"
   ]
  },
  {
   "cell_type": "markdown",
   "metadata": {},
   "source": [
    "#### 降低 运算的时间和空间复杂度， 一层 for循环"
   ]
  },
  {
   "cell_type": "code",
   "execution_count": 14,
   "metadata": {},
   "outputs": [],
   "source": [
    "# 得到最小值的 索引\n",
    "def sortnd(nd):\n",
    "    for i in range(nd.size):\n",
    "        min_index = np.argmin(nd[i:]) + i\n",
    "#         print(min_index)\n",
    "        nd[i], nd[min_index] = nd[min_index], nd[i]\n",
    "    return nd\n"
   ]
  },
  {
   "cell_type": "code",
   "execution_count": 15,
   "metadata": {},
   "outputs": [
    {
     "data": {
      "text/plain": [
       "array([1, 2, 2, 3, 3, 9])"
      ]
     },
     "execution_count": 15,
     "metadata": {},
     "output_type": "execute_result"
    }
   ],
   "source": [
    "sortnd(n1)"
   ]
  },
  {
   "cell_type": "markdown",
   "metadata": {},
   "source": [
    "## 快速排序\n",
    "\n",
    "np.sort() 和 ndarray.sort() \n",
    "\n",
    "- np.sort() 不改变输入  有返回值\n",
    "- ndarray.sort() 无返回值，本地处理， 不占用空间，但改变输入"
   ]
  },
  {
   "cell_type": "code",
   "execution_count": 17,
   "metadata": {},
   "outputs": [
    {
     "data": {
      "text/plain": [
       "array([1, 2, 3, 4, 8, 9])"
      ]
     },
     "execution_count": 17,
     "metadata": {},
     "output_type": "execute_result"
    }
   ],
   "source": [
    "n1 = np.array([2, 9, 3, 8, 1, 4])\n",
    "n1.sort()\n",
    "n1"
   ]
  },
  {
   "cell_type": "markdown",
   "metadata": {},
   "source": [
    "## 部分排序\n",
    "\n",
    "np.partition(a, k),  得到最大或最小的数， 但不会排序\n",
    "\n",
    "- k 为正时，得到最小的 k 个数\n",
    "- k 为负是，得到需要的最大的 k 个数, 放在末尾"
   ]
  },
  {
   "cell_type": "code",
   "execution_count": 25,
   "metadata": {},
   "outputs": [],
   "source": [
    "nd = np.random.randint(0, 150, size=20)"
   ]
  },
  {
   "cell_type": "code",
   "execution_count": 26,
   "metadata": {},
   "outputs": [
    {
     "data": {
      "text/plain": [
       "array([137, 121,  19, 146,  66,  79,  55,  75,  72, 112, 103,  49,  98,\n",
       "        20, 106, 121,  61,  89,  76,   4])"
      ]
     },
     "execution_count": 26,
     "metadata": {},
     "output_type": "execute_result"
    }
   ],
   "source": [
    "nd"
   ]
  },
  {
   "cell_type": "code",
   "execution_count": 27,
   "metadata": {},
   "outputs": [
    {
     "data": {
      "text/plain": [
       "array([ 61,   4,  19,  76,  66,  79,  55,  75,  72,  89, 103,  49,  98,\n",
       "        20, 106, 112, 121, 121, 146, 137])"
      ]
     },
     "execution_count": 27,
     "metadata": {},
     "output_type": "execute_result"
    }
   ],
   "source": [
    "np.partition(nd, -5)"
   ]
  },
  {
   "cell_type": "code",
   "execution_count": 28,
   "metadata": {},
   "outputs": [
    {
     "data": {
      "text/plain": [
       "array([ 19,   4,  20,  55,  49,  61,  66,  72,  75,  89, 103,  79,  98,\n",
       "        76, 106, 112, 121, 121, 146, 137])"
      ]
     },
     "execution_count": 28,
     "metadata": {},
     "output_type": "execute_result"
    }
   ],
   "source": [
    "np.partition(nd, 5)"
   ]
  },
  {
   "cell_type": "code",
   "execution_count": null,
   "metadata": {},
   "outputs": [],
   "source": []
  }
 ],
 "metadata": {
  "kernelspec": {
   "display_name": "Python 3",
   "language": "python",
   "name": "python3"
  },
  "language_info": {
   "codemirror_mode": {
    "name": "ipython",
    "version": 3
   },
   "file_extension": ".py",
   "mimetype": "text/x-python",
   "name": "python",
   "nbconvert_exporter": "python",
   "pygments_lexer": "ipython3",
   "version": "3.6.4"
  }
 },
 "nbformat": 4,
 "nbformat_minor": 2
}
